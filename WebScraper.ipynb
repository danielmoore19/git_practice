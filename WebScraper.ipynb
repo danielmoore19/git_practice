{
  "nbformat": 4,
  "nbformat_minor": 0,
  "metadata": {
    "colab": {
      "name": "WebScraper.ipynb",
      "provenance": [],
      "collapsed_sections": []
    },
    "kernelspec": {
      "name": "python3",
      "display_name": "Python 3"
    }
  },
  "cells": [
    {
      "cell_type": "code",
      "metadata": {
        "id": "0j5jn7kEk8wL",
        "colab_type": "code",
        "colab": {
          "base_uri": "https://localhost:8080/",
          "height": 105
        },
        "outputId": "0b67076e-9e1e-4bd5-bcc1-fb3d1f9a476f"
      },
      "source": [
        "from time import time\n",
        "from time import sleep\n",
        "from random import randint\n",
        "from IPython.core.display import clear_output\n",
        "from warnings import warn\n",
        "from bs4 import BeautifulSoup\n",
        "import requests\n",
        "\n",
        "# define a function to process the page for space.com/news\n",
        "\n",
        "def space_scrape(soup, news):\n",
        "  # find all elements with class *content*\n",
        "  \n",
        "  stories = soup.select ('.listingResults')\n",
        "  \n",
        "  # extract the content news stories: headline, author, synopsis, date+time\n",
        "  \n",
        "  for story in stories:\n",
        "    headline = story.select_one('.content > header > h3').get_text() # extract article title\n",
        "    author = story.select_one('.content span').get_text() # extract author\n",
        "    synopsis = story.select_one('.content > p').get_text() # extract synopsis\n",
        "    story = {'title' : headline, 'author' : author, 'synopsis' : synopsis} # create a dictionary\n",
        "    news.append(story)\n",
        "\n",
        "# prepare for the monitoring logic\n",
        "\n",
        "start_time = time() # note the system time when the program starts\n",
        "request_count = 0 # track the number of requests made\n",
        "\n",
        "# create a list to store the data\n",
        "\n",
        "news = []\n",
        "\n",
        "# make a request\n",
        "\n",
        "has_next_page = True\n",
        "MAX_REQUESTS = 5 # do not request more than 100 pages\n",
        "page_number = 1\n",
        "url = 'https://www.space.com/news'\n",
        "headers = {'user-agent': 'newsscraper - school project (jer29v11@gmail.com)'}\n",
        "\n",
        "while has_next_page and request_count <= MAX_REQUESTS:\n",
        "  # keep the output clear\n",
        "  clear_output(wait = True)\n",
        "  \n",
        "  # make an initial request\n",
        "  response = requests.get(url, headers=headers)\n",
        "  if(response.ok):\n",
        "      data = response.text\n",
        "      soup = BeautifulSoup(data, 'html.parser')\n",
        "      space_scrape(soup, news)\n",
        "\n",
        "    # check for the next page\n",
        "    # look for the presence of element with class *test-pagination-next*\n",
        "      next_button = soup.select('.listings-pagination-button')\n",
        "      has_next_page = len(next_button) > 0\n",
        "\n",
        "  else:\n",
        "    # display a warning if there are any problems\n",
        "    warn('Request #: {}, Failed with status code: {}'.format(request_count, response.status_code))\n",
        "  \n",
        "  request_count += 1\n",
        "  \n",
        "  # go to sleep for a bit\n",
        "  # we use a random number between 1 and 5 so\n",
        "  # We can wait as long as 5 seconds to make a second request\n",
        "  \n",
        "  sleep(randint(1,3))\n",
        "  \n",
        "  # output some logs for monitoring\n",
        "  elapsed_time = time() - start_time\n",
        "  print('Requests: {}, Frequency: {} requests/s, {} pages processed.'.format(request_count, request_count/elapsed_time, len(news)))\n",
        "  \n",
        "  # prepare for next iteration\n",
        "  page_number += 1\n",
        "      \n",
        "print('Scraping complete')\n",
        "print('Requests: {}, Frequency: {} requests/s, {} pages processed.'.format(request_count, request_count/elapsed_time, len(news)))\n",
        "print(news)\n",
        "\n",
        "  "
      ],
      "execution_count": 23,
      "outputs": [
        {
          "output_type": "stream",
          "text": [
            "Requests: 6, Frequency: 0.3728549117696226 requests/s, 6 pages processed.\n",
            "Scraping complete\n",
            "Requests: 6, Frequency: 0.3728549117696226 requests/s, 6 pages processed.\n",
            "[{'title': \"Uranus Shines at Its Brightest Tonight: Here's How to See It\", 'author': '\\nBy\\n\\nElizabeth Howell \\n', 'synopsis': \"\\nYou can catch Uranus, one of the solar system's most distant planets, at its brightest tonight.\\n\"}, {'title': \"Uranus Shines at Its Brightest Tonight: Here's How to See It\", 'author': '\\nBy\\n\\nElizabeth Howell \\n', 'synopsis': \"\\nYou can catch Uranus, one of the solar system's most distant planets, at its brightest tonight.\\n\"}, {'title': \"Uranus Shines at Its Brightest Tonight: Here's How to See It\", 'author': '\\nBy\\n\\nElizabeth Howell \\n', 'synopsis': \"\\nYou can catch Uranus, one of the solar system's most distant planets, at its brightest tonight.\\n\"}, {'title': \"Uranus Shines at Its Brightest Tonight: Here's How to See It\", 'author': '\\nBy\\n\\nElizabeth Howell \\n', 'synopsis': \"\\nYou can catch Uranus, one of the solar system's most distant planets, at its brightest tonight.\\n\"}, {'title': \"Uranus Shines at Its Brightest Tonight: Here's How to See It\", 'author': '\\nBy\\n\\nElizabeth Howell \\n', 'synopsis': \"\\nYou can catch Uranus, one of the solar system's most distant planets, at its brightest tonight.\\n\"}, {'title': \"Uranus Shines at Its Brightest Tonight: Here's How to See It\", 'author': '\\nBy\\n\\nElizabeth Howell \\n', 'synopsis': \"\\nYou can catch Uranus, one of the solar system's most distant planets, at its brightest tonight.\\n\"}]\n"
          ],
          "name": "stdout"
        }
      ]
    },
    {
      "cell_type": "code",
      "metadata": {
        "id": "UQLGwVl9A1-C",
        "colab_type": "code",
        "colab": {}
      },
      "source": [
        ""
      ],
      "execution_count": 0,
      "outputs": []
    }
  ]
}